{
  "cells": [
    {
      "cell_type": "markdown",
      "metadata": {
        "id": "view-in-github",
        "colab_type": "text"
      },
      "source": [
        "<a href=\"https://colab.research.google.com/github/AnvayRaj/MLP-Notes/blob/main/Week_1_Exercise_1.ipynb\" target=\"_parent\"><img src=\"https://colab.research.google.com/assets/colab-badge.svg\" alt=\"Open In Colab\"/></a>"
      ]
    },
    {
      "cell_type": "markdown",
      "metadata": {
        "id": "h_IYyDSUIeCo"
      },
      "source": [
        "# Introduction\n",
        "\n",
        "The objective of this colab is to demonstrate `sklearn` dataset API.\n",
        "\n",
        "Recall that it has three APIs:\n",
        "1. Loaders (`load_*`) load small standard datasets bundled with `sklearn`.\n",
        "2. Fetchers (`fetch_*`) fetch large datasets from the internet and loads them in memory.\n",
        "3. Generators (`generate_*`) generate controlled synthetic datasets.\n",
        "\n",
        "Loaders and fetchers return a `bunch` object and generators return a tuple of feature matrix and label vector (or matrix)."
      ]
    },
    {
      "cell_type": "markdown",
      "metadata": {
        "id": "90ku314iLQdl"
      },
      "source": [
        "# Loaders"
      ]
    },
    {
      "cell_type": "markdown",
      "metadata": {
        "id": "nRVn48pqqSmx"
      },
      "source": [
        "## Loading iris dataset"
      ]
    },
    {
      "cell_type": "code",
      "execution_count": null,
      "metadata": {
        "id": "kpLYDlQaIUUu"
      },
      "outputs": [],
      "source": [
        "from sklearn.datasets import load_iris\n",
        "data = load_iris()"
      ]
    },
    {
      "cell_type": "markdown",
      "metadata": {
        "id": "kwwCZAJGLw7L"
      },
      "source": [
        "This returns a `Bunch` object `data` which is a dictionary like object with the following attributes:\n",
        "* `data`, which has the feature matrix.\n",
        "* `target`, which is the label vector\n",
        "* `feature_names` contain the names of the features.\n",
        "* `target_names` contain the names of the classes.\n",
        "* `DESCR` has the full description of dataset.\n",
        "* `filename` has the path to the location of data."
      ]
    },
    {
      "cell_type": "code",
      "execution_count": null,
      "metadata": {
        "colab": {
          "base_uri": "https://localhost:8080/"
        },
        "id": "4HlqJGSXpN60",
        "outputId": "a5d5bb02-5883-49ab-f378-537311c82cbf"
      },
      "outputs": [
        {
          "data": {
            "text/plain": [
              "sklearn.utils.Bunch"
            ]
          },
          "execution_count": 119,
          "metadata": {},
          "output_type": "execute_result"
        }
      ],
      "source": [
        "type(data)"
      ]
    },
    {
      "cell_type": "markdown",
      "metadata": {
        "id": "KFKGPeNvMmys"
      },
      "source": [
        "We can access them one by one and examine their contents.  For example, we can access `feature_names` as follows:"
      ]
    },
    {
      "cell_type": "code",
      "execution_count": null,
      "metadata": {
        "colab": {
          "base_uri": "https://localhost:8080/"
        },
        "id": "zKtD9ST0L7Hf",
        "outputId": "d40b8162-3d4f-4e4b-ec2d-184115f5446b"
      },
      "outputs": [
        {
          "data": {
            "text/plain": [
              "['sepal length (cm)',\n",
              " 'sepal width (cm)',\n",
              " 'petal length (cm)',\n",
              " 'petal width (cm)']"
            ]
          },
          "execution_count": 120,
          "metadata": {},
          "output_type": "execute_result"
        }
      ],
      "source": [
        "data.feature_names"
      ]
    },
    {
      "cell_type": "markdown",
      "metadata": {
        "id": "1ALnnFhkiW_6"
      },
      "source": [
        "We can see the names of the features in this dataset."
      ]
    },
    {
      "cell_type": "markdown",
      "metadata": {
        "id": "LugwWwLmjnjh"
      },
      "source": [
        "Let's examine the names of the labels."
      ]
    },
    {
      "cell_type": "code",
      "execution_count": null,
      "metadata": {
        "colab": {
          "base_uri": "https://localhost:8080/"
        },
        "id": "9eFTkExyjqeh",
        "outputId": "04d44cde-d596-4a6b-b07c-cf74795a39f5"
      },
      "outputs": [
        {
          "data": {
            "text/plain": [
              "array(['setosa', 'versicolor', 'virginica'], dtype='<U10')"
            ]
          },
          "execution_count": 121,
          "metadata": {},
          "output_type": "execute_result"
        }
      ],
      "source": [
        "data.target_names"
      ]
    },
    {
      "cell_type": "markdown",
      "metadata": {
        "id": "XCZDlH1xjxOZ"
      },
      "source": [
        "There are three classes: `setosa`, `versicolor`, `virginica`."
      ]
    },
    {
      "cell_type": "markdown",
      "metadata": {
        "id": "_OUTZ1NhibOA"
      },
      "source": [
        "The feature matrix can be accessed as follows: `data.data`.  Let's look at the first five examples in feature matrix."
      ]
    },
    {
      "cell_type": "code",
      "execution_count": null,
      "metadata": {
        "colab": {
          "base_uri": "https://localhost:8080/"
        },
        "id": "TZkGny8lii3C",
        "outputId": "9c4f22aa-79d3-4cf5-b949-f10883ffe917"
      },
      "outputs": [
        {
          "data": {
            "text/plain": [
              "array([[5.1, 3.5, 1.4, 0.2],\n",
              "       [4.9, 3. , 1.4, 0.2],\n",
              "       [4.7, 3.2, 1.3, 0.2],\n",
              "       [4.6, 3.1, 1.5, 0.2],\n",
              "       [5. , 3.6, 1.4, 0.2]])"
            ]
          },
          "execution_count": 122,
          "metadata": {},
          "output_type": "execute_result"
        }
      ],
      "source": [
        "data.data[:5]"
      ]
    },
    {
      "cell_type": "markdown",
      "metadata": {
        "id": "rZ8JHFoiinZt"
      },
      "source": [
        "We can observe 4 features per example."
      ]
    },
    {
      "cell_type": "markdown",
      "metadata": {
        "id": "i79v88qGjQ8Y"
      },
      "source": [
        "Let's examine the shape of the feature matrix."
      ]
    },
    {
      "cell_type": "code",
      "execution_count": null,
      "metadata": {
        "colab": {
          "base_uri": "https://localhost:8080/"
        },
        "id": "Hv2DY6y-jUBB",
        "outputId": "fb39efa0-e99f-4ce7-d701-8a10e26920e3"
      },
      "outputs": [
        {
          "data": {
            "text/plain": [
              "(150, 4)"
            ]
          },
          "execution_count": 123,
          "metadata": {},
          "output_type": "execute_result"
        }
      ],
      "source": [
        "data.data.shape"
      ]
    },
    {
      "cell_type": "markdown",
      "metadata": {
        "id": "18BPrQ2CjZyB"
      },
      "source": [
        "There are 150 examples and each example has 4 features."
      ]
    },
    {
      "cell_type": "markdown",
      "metadata": {
        "id": "uyiUkvSVjjpJ"
      },
      "source": [
        "Finally, we will examine the label vector and its shape."
      ]
    },
    {
      "cell_type": "code",
      "execution_count": null,
      "metadata": {
        "colab": {
          "base_uri": "https://localhost:8080/"
        },
        "id": "5QZ_WsDmkJBB",
        "outputId": "fc95430a-ec01-4217-b10e-a320e1b1c004"
      },
      "outputs": [
        {
          "data": {
            "text/plain": [
              "array([0, 0, 0, 0, 0, 0, 0, 0, 0, 0, 0, 0, 0, 0, 0, 0, 0, 0, 0, 0, 0, 0,\n",
              "       0, 0, 0, 0, 0, 0, 0, 0, 0, 0, 0, 0, 0, 0, 0, 0, 0, 0, 0, 0, 0, 0,\n",
              "       0, 0, 0, 0, 0, 0, 1, 1, 1, 1, 1, 1, 1, 1, 1, 1, 1, 1, 1, 1, 1, 1,\n",
              "       1, 1, 1, 1, 1, 1, 1, 1, 1, 1, 1, 1, 1, 1, 1, 1, 1, 1, 1, 1, 1, 1,\n",
              "       1, 1, 1, 1, 1, 1, 1, 1, 1, 1, 1, 1, 2, 2, 2, 2, 2, 2, 2, 2, 2, 2,\n",
              "       2, 2, 2, 2, 2, 2, 2, 2, 2, 2, 2, 2, 2, 2, 2, 2, 2, 2, 2, 2, 2, 2,\n",
              "       2, 2, 2, 2, 2, 2, 2, 2, 2, 2, 2, 2, 2, 2, 2, 2, 2, 2])"
            ]
          },
          "execution_count": 124,
          "metadata": {},
          "output_type": "execute_result"
        }
      ],
      "source": [
        "data.target"
      ]
    },
    {
      "cell_type": "markdown",
      "metadata": {
        "id": "Fg1c-fYMkQFJ"
      },
      "source": [
        "There are 50 examples each from three classes: 0, 1 and 2."
      ]
    },
    {
      "cell_type": "markdown",
      "metadata": {
        "id": "6kcU-l-QlAdq"
      },
      "source": [
        "We can read additional documentation about `load_iris` in the following manner:"
      ]
    },
    {
      "cell_type": "code",
      "execution_count": null,
      "metadata": {
        "colab": {
          "base_uri": "https://localhost:8080/"
        },
        "id": "JXUb10GIlHsy",
        "outputId": "c796efe1-e55e-4270-c40b-fe71d753496b"
      },
      "outputs": [
        {
          "name": "stdout",
          "output_type": "stream",
          "text": [
            "Object `load_iris` not found.\n"
          ]
        }
      ],
      "source": [
        "?load_iris"
      ]
    },
    {
      "cell_type": "markdown",
      "metadata": {
        "id": "lMOf6hLXkj25"
      },
      "source": [
        "In this way, we can load and examine different datasets."
      ]
    },
    {
      "cell_type": "markdown",
      "metadata": {
        "id": "JgIRhbZZpgx8"
      },
      "source": [
        "We can obtain feature matrix and label or target from `load_iris` and other loaders in general by setting `return_X_y` argument to `True`."
      ]
    },
    {
      "cell_type": "code",
      "execution_count": null,
      "metadata": {
        "colab": {
          "base_uri": "https://localhost:8080/"
        },
        "id": "lIACYuRUpwqi",
        "outputId": "2f59d244-beba-41b0-f4e4-59bbcb528e7c"
      },
      "outputs": [
        {
          "name": "stdout",
          "output_type": "stream",
          "text": [
            "Shape of feature matrix: (150, 4)\n",
            "Shape of label vector: (150,)\n"
          ]
        }
      ],
      "source": [
        "feature_matrix, label_vector = load_iris(return_X_y=True)\n",
        "print ('Shape of feature matrix:', feature_matrix.shape)\n",
        "print ('Shape of label vector:', label_vector.shape)"
      ]
    },
    {
      "cell_type": "markdown",
      "metadata": {
        "id": "l2RGDz9WkqKo"
      },
      "source": [
        "## Loading diabetes dataset"
      ]
    },
    {
      "cell_type": "code",
      "execution_count": null,
      "metadata": {
        "id": "MGLq6ElpkxnS"
      },
      "outputs": [],
      "source": [
        "from sklearn.datasets import load_diabetes\n",
        "data = load_diabetes()"
      ]
    },
    {
      "cell_type": "markdown",
      "metadata": {
        "id": "PT4X6Gkmlblw"
      },
      "source": [
        "Additional details about this loader can be accessed from the documentation."
      ]
    },
    {
      "cell_type": "code",
      "execution_count": null,
      "metadata": {
        "id": "FhRZj1JQk2uR"
      },
      "outputs": [],
      "source": [
        "?load_diabetes"
      ]
    },
    {
      "cell_type": "markdown",
      "metadata": {
        "id": "YIYK2W1ipjYx"
      },
      "source": [
        "### `load_diabetes`"
      ]
    },
    {
      "cell_type": "markdown",
      "metadata": {
        "id": "c44zl0ivpjYz"
      },
      "source": [
        "**Step 2.** Load the dataset and obtain a `Bunch` object."
      ]
    },
    {
      "cell_type": "code",
      "execution_count": null,
      "metadata": {
        "id": "952WN2BCpjYz"
      },
      "outputs": [],
      "source": [
        "# Call the loader and obtain the `Bunch` object."
      ]
    },
    {
      "cell_type": "markdown",
      "metadata": {
        "id": "7bbH6k6CpjYz"
      },
      "source": [
        "**Step 3.** Examine the bunch object."
      ]
    },
    {
      "cell_type": "markdown",
      "metadata": {
        "id": "vFebCd_MpjY0"
      },
      "source": [
        "Look at the description of the dataset."
      ]
    },
    {
      "cell_type": "code",
      "execution_count": null,
      "metadata": {
        "colab": {
          "base_uri": "https://localhost:8080/"
        },
        "id": "UeVfxKZbpjY0",
        "outputId": "39fdac81-4704-4a82-b7d2-c400a029d170"
      },
      "outputs": [
        {
          "data": {
            "text/plain": [
              "['age', 'sex', 'bmi', 'bp', 's1', 's2', 's3', 's4', 's5', 's6']"
            ]
          },
          "execution_count": 6,
          "metadata": {},
          "output_type": "execute_result"
        }
      ],
      "source": [
        "data.feature_names"
      ]
    },
    {
      "cell_type": "markdown",
      "metadata": {
        "id": "zhJjrPt7pjY0"
      },
      "source": [
        "Find out the shape of the feature matrix."
      ]
    },
    {
      "cell_type": "code",
      "execution_count": null,
      "metadata": {
        "id": "B47UafS-pjY0"
      },
      "outputs": [],
      "source": [
        "# Write code for finding the shape of the feature matrix."
      ]
    },
    {
      "cell_type": "markdown",
      "metadata": {
        "id": "9PaUvhqlpjY0"
      },
      "source": [
        "Look at the first five examples from the feature matrix."
      ]
    },
    {
      "cell_type": "code",
      "execution_count": null,
      "metadata": {
        "id": "1l4oyudypjY0"
      },
      "outputs": [],
      "source": [
        "# Look at the first five examples from the feature matrix."
      ]
    },
    {
      "cell_type": "markdown",
      "metadata": {
        "id": "MZvYYsQ2pjY1"
      },
      "source": [
        "Find out the shape of the label matrix."
      ]
    },
    {
      "cell_type": "code",
      "execution_count": null,
      "metadata": {
        "id": "x4_bwnh-pjY1"
      },
      "outputs": [],
      "source": [
        "# Write code to find shape of label matrix."
      ]
    },
    {
      "cell_type": "markdown",
      "metadata": {
        "id": "aBVHP4-OpjY1"
      },
      "source": [
        "Look at the labels of the first five examples."
      ]
    },
    {
      "cell_type": "code",
      "execution_count": null,
      "metadata": {
        "id": "A2mSGDgmpjY1"
      },
      "outputs": [],
      "source": [
        "# Look at the labels of the first five examples."
      ]
    },
    {
      "cell_type": "markdown",
      "metadata": {
        "id": "DrI4bUhOpjY1"
      },
      "source": [
        "Find out the names of the features."
      ]
    },
    {
      "cell_type": "code",
      "execution_count": null,
      "metadata": {
        "id": "xqlgXupdpjY1"
      },
      "outputs": [],
      "source": [
        "# Get the names of the features."
      ]
    },
    {
      "cell_type": "markdown",
      "metadata": {
        "id": "IESmYZ1qlqvG"
      },
      "source": [
        "## Loading digits dataset"
      ]
    },
    {
      "cell_type": "code",
      "execution_count": null,
      "metadata": {
        "id": "y5O026WYlt1O"
      },
      "outputs": [],
      "source": [
        "from sklearn.datasets import load_digits\n",
        "?load_digits"
      ]
    },
    {
      "cell_type": "code",
      "execution_count": null,
      "metadata": {
        "id": "umrTTNT0lze1"
      },
      "outputs": [],
      "source": [
        "data = load_digits()"
      ]
    },
    {
      "cell_type": "markdown",
      "metadata": {
        "id": "pTcsa4WCp6dx"
      },
      "source": [
        "### `load_digits`"
      ]
    },
    {
      "cell_type": "markdown",
      "metadata": {
        "id": "3M14aewJp6dy"
      },
      "source": [
        "**Step 2.** Load the dataset and obtain a `Bunch` object."
      ]
    },
    {
      "cell_type": "code",
      "execution_count": null,
      "metadata": {
        "id": "zcfvj87Sp6dy"
      },
      "outputs": [],
      "source": [
        "# Call the loader and obtain the `Bunch` object."
      ]
    },
    {
      "cell_type": "markdown",
      "metadata": {
        "id": "OcZlUn9Hp6dy"
      },
      "source": [
        "**Step 3.** Examine the bunch object."
      ]
    },
    {
      "cell_type": "markdown",
      "metadata": {
        "id": "Af0c-h3_p6dy"
      },
      "source": [
        "Look at the description of the dataset."
      ]
    },
    {
      "cell_type": "code",
      "execution_count": null,
      "metadata": {
        "id": "1RQ2fMtZp6dz"
      },
      "outputs": [],
      "source": []
    },
    {
      "cell_type": "markdown",
      "metadata": {
        "id": "yRve7pOqp6dz"
      },
      "source": [
        "Find out the shape of the feature matrix."
      ]
    },
    {
      "cell_type": "code",
      "execution_count": null,
      "metadata": {
        "id": "Uo6O3qMap6dz"
      },
      "outputs": [],
      "source": [
        "# Write code for finding the shape of the feature matrix."
      ]
    },
    {
      "cell_type": "markdown",
      "metadata": {
        "id": "PGk1dXgsp6dz"
      },
      "source": [
        "Look at the first five examples from the feature matrix."
      ]
    },
    {
      "cell_type": "code",
      "execution_count": null,
      "metadata": {
        "id": "QirmJQdpp6dz"
      },
      "outputs": [],
      "source": [
        "# Look at the first five examples from the feature matrix."
      ]
    },
    {
      "cell_type": "markdown",
      "metadata": {
        "id": "Tj3tgwFOp6dz"
      },
      "source": [
        "Find out the shape of the label matrix."
      ]
    },
    {
      "cell_type": "code",
      "execution_count": null,
      "metadata": {
        "id": "KqfvOtxCp6d0"
      },
      "outputs": [],
      "source": [
        "# Write code to find shape of label matrix."
      ]
    },
    {
      "cell_type": "markdown",
      "metadata": {
        "id": "lfZP5yMTp6d0"
      },
      "source": [
        "Look at the labels of the first five examples."
      ]
    },
    {
      "cell_type": "code",
      "execution_count": null,
      "metadata": {
        "id": "bNveshRmp6d0"
      },
      "outputs": [],
      "source": [
        "# Look at the labels of the first five examples."
      ]
    },
    {
      "cell_type": "markdown",
      "metadata": {
        "id": "AsfIcNNVp6d0"
      },
      "source": [
        "Find out the names of the features."
      ]
    },
    {
      "cell_type": "code",
      "execution_count": null,
      "metadata": {
        "id": "29wzHzGDp6d0"
      },
      "outputs": [],
      "source": [
        "# Get the names of the features."
      ]
    },
    {
      "cell_type": "markdown",
      "metadata": {
        "id": "cm0eLIBLp6d1"
      },
      "source": [
        "Find names of class labels."
      ]
    },
    {
      "cell_type": "code",
      "execution_count": null,
      "metadata": {
        "id": "GcMD5c-up6d1"
      },
      "outputs": [],
      "source": [
        "# Find names of class labels."
      ]
    },
    {
      "cell_type": "markdown",
      "metadata": {
        "id": "g8NXrBSkmA4z"
      },
      "source": [
        "## Exercise\n",
        "\n",
        "Experiment with other dataset loaders e.g. `load_wine`, `load_breast_cancer` and `load_linnerud`."
      ]
    },
    {
      "cell_type": "markdown",
      "metadata": {
        "id": "bQd2JPjyoPYA"
      },
      "source": [
        "### `load_wine`"
      ]
    },
    {
      "cell_type": "markdown",
      "metadata": {
        "id": "AjFhPOhJmWoV"
      },
      "source": [
        "**Step 1.** Import the loader."
      ]
    },
    {
      "cell_type": "code",
      "execution_count": null,
      "metadata": {
        "id": "rYCMIz3jmUdK"
      },
      "outputs": [],
      "source": [
        "# Write your code here.\n",
        "from sklearn.datasets import load_wine"
      ]
    },
    {
      "cell_type": "markdown",
      "metadata": {
        "id": "45bhGhH9mebV"
      },
      "source": [
        "**Step 1a.** In case, you want to know more about the loader, access its documentation by using `?<loader_name>' command."
      ]
    },
    {
      "cell_type": "code",
      "execution_count": null,
      "metadata": {
        "id": "F1Ja3JOtmpoK"
      },
      "outputs": [],
      "source": [
        "# Access the documentation.\n",
        "?load_wine"
      ]
    },
    {
      "cell_type": "markdown",
      "metadata": {
        "id": "Ge6p4Q31muLZ"
      },
      "source": [
        "**Step 2.** Load the dataset and obtain a `Bunch` object."
      ]
    },
    {
      "cell_type": "code",
      "execution_count": null,
      "metadata": {
        "id": "ypg3oLUrm9Ke"
      },
      "outputs": [],
      "source": [
        "# Call the loader and obtain the `Bunch` object.\n",
        "data = load_wine()"
      ]
    },
    {
      "cell_type": "markdown",
      "metadata": {
        "id": "z_rUczEBnGEM"
      },
      "source": [
        "**Step 3.** Examine the bunch object."
      ]
    },
    {
      "cell_type": "markdown",
      "metadata": {
        "id": "NibIvMaPoVt8"
      },
      "source": [
        "Look at the description of the dataset."
      ]
    },
    {
      "cell_type": "code",
      "execution_count": null,
      "metadata": {
        "colab": {
          "base_uri": "https://localhost:8080/",
          "height": 160
        },
        "id": "x9hqTqleoYAD",
        "outputId": "315f300a-49d2-4995-8bc8-d73c8349c77b"
      },
      "outputs": [
        {
          "data": {
            "application/vnd.google.colaboratory.intrinsic+json": {
              "type": "string"
            },
            "text/plain": [
              "'.. _wine_dataset:\\n\\nWine recognition dataset\\n------------------------\\n\\n**Data Set Characteristics:**\\n\\n    :Number of Instances: 178 (50 in each of three classes)\\n    :Number of Attributes: 13 numeric, predictive attributes and the class\\n    :Attribute Information:\\n \\t\\t- Alcohol\\n \\t\\t- Malic acid\\n \\t\\t- Ash\\n\\t\\t- Alcalinity of ash  \\n \\t\\t- Magnesium\\n\\t\\t- Total phenols\\n \\t\\t- Flavanoids\\n \\t\\t- Nonflavanoid phenols\\n \\t\\t- Proanthocyanins\\n\\t\\t- Color intensity\\n \\t\\t- Hue\\n \\t\\t- OD280/OD315 of diluted wines\\n \\t\\t- Proline\\n\\n    - class:\\n            - class_0\\n            - class_1\\n            - class_2\\n\\t\\t\\n    :Summary Statistics:\\n    \\n    ============================= ==== ===== ======= =====\\n                                   Min   Max   Mean     SD\\n    ============================= ==== ===== ======= =====\\n    Alcohol:                      11.0  14.8    13.0   0.8\\n    Malic Acid:                   0.74  5.80    2.34  1.12\\n    Ash:                          1.36  3.23    2.36  0.27\\n    Alcalinity of Ash:            10.6  30.0    19.5   3.3\\n    Magnesium:                    70.0 162.0    99.7  14.3\\n    Total Phenols:                0.98  3.88    2.29  0.63\\n    Flavanoids:                   0.34  5.08    2.03  1.00\\n    Nonflavanoid Phenols:         0.13  0.66    0.36  0.12\\n    Proanthocyanins:              0.41  3.58    1.59  0.57\\n    Colour Intensity:              1.3  13.0     5.1   2.3\\n    Hue:                          0.48  1.71    0.96  0.23\\n    OD280/OD315 of diluted wines: 1.27  4.00    2.61  0.71\\n    Proline:                       278  1680     746   315\\n    ============================= ==== ===== ======= =====\\n\\n    :Missing Attribute Values: None\\n    :Class Distribution: class_0 (59), class_1 (71), class_2 (48)\\n    :Creator: R.A. Fisher\\n    :Donor: Michael Marshall (MARSHALL%PLU@io.arc.nasa.gov)\\n    :Date: July, 1988\\n\\nThis is a copy of UCI ML Wine recognition datasets.\\nhttps://archive.ics.uci.edu/ml/machine-learning-databases/wine/wine.data\\n\\nThe data is the results of a chemical analysis of wines grown in the same\\nregion in Italy by three different cultivators. There are thirteen different\\nmeasurements taken for different constituents found in the three types of\\nwine.\\n\\nOriginal Owners: \\n\\nForina, M. et al, PARVUS - \\nAn Extendible Package for Data Exploration, Classification and Correlation. \\nInstitute of Pharmaceutical and Food Analysis and Technologies,\\nVia Brigata Salerno, 16147 Genoa, Italy.\\n\\nCitation:\\n\\nLichman, M. (2013). UCI Machine Learning Repository\\n[https://archive.ics.uci.edu/ml]. Irvine, CA: University of California,\\nSchool of Information and Computer Science. \\n\\n.. topic:: References\\n\\n  (1) S. Aeberhard, D. Coomans and O. de Vel, \\n  Comparison of Classifiers in High Dimensional Settings, \\n  Tech. Rep. no. 92-02, (1992), Dept. of Computer Science and Dept. of  \\n  Mathematics and Statistics, James Cook University of North Queensland. \\n  (Also submitted to Technometrics). \\n\\n  The data was used with many others for comparing various \\n  classifiers. The classes are separable, though only RDA \\n  has achieved 100% correct classification. \\n  (RDA : 100%, QDA 99.4%, LDA 98.9%, 1NN 96.1% (z-transformed data)) \\n  (All results using the leave-one-out technique) \\n\\n  (2) S. Aeberhard, D. Coomans and O. de Vel, \\n  \"THE CLASSIFICATION PERFORMANCE OF RDA\" \\n  Tech. Rep. no. 92-01, (1992), Dept. of Computer Science and Dept. of \\n  Mathematics and Statistics, James Cook University of North Queensland. \\n  (Also submitted to Journal of Chemometrics).\\n'"
            ]
          },
          "execution_count": 148,
          "metadata": {},
          "output_type": "execute_result"
        }
      ],
      "source": [
        "data.DESCR"
      ]
    },
    {
      "cell_type": "markdown",
      "metadata": {
        "id": "-5uTOcgGnNSb"
      },
      "source": [
        "Find out the shape of the feature matrix."
      ]
    },
    {
      "cell_type": "code",
      "execution_count": null,
      "metadata": {
        "colab": {
          "base_uri": "https://localhost:8080/"
        },
        "id": "KG7GsbgqnRQ7",
        "outputId": "34cbe5c5-d469-4842-e2a4-e0880784c9a4"
      },
      "outputs": [
        {
          "data": {
            "text/plain": [
              "(178, 13)"
            ]
          },
          "execution_count": 149,
          "metadata": {},
          "output_type": "execute_result"
        }
      ],
      "source": [
        "# Write code for finding the shape of the feature matrix.\n",
        "data.data.shape"
      ]
    },
    {
      "cell_type": "markdown",
      "metadata": {
        "id": "lHjlBH9pnu1g"
      },
      "source": [
        "Look at the first five examples from the feature matrix."
      ]
    },
    {
      "cell_type": "code",
      "execution_count": null,
      "metadata": {
        "colab": {
          "base_uri": "https://localhost:8080/"
        },
        "id": "yaAmf8tgnySL",
        "outputId": "74c7b8ae-f3fb-4d1c-f392-0ea3abf17e88"
      },
      "outputs": [
        {
          "data": {
            "text/plain": [
              "array([[1.423e+01, 1.710e+00, 2.430e+00, 1.560e+01, 1.270e+02, 2.800e+00,\n",
              "        3.060e+00, 2.800e-01, 2.290e+00, 5.640e+00, 1.040e+00, 3.920e+00,\n",
              "        1.065e+03],\n",
              "       [1.320e+01, 1.780e+00, 2.140e+00, 1.120e+01, 1.000e+02, 2.650e+00,\n",
              "        2.760e+00, 2.600e-01, 1.280e+00, 4.380e+00, 1.050e+00, 3.400e+00,\n",
              "        1.050e+03],\n",
              "       [1.316e+01, 2.360e+00, 2.670e+00, 1.860e+01, 1.010e+02, 2.800e+00,\n",
              "        3.240e+00, 3.000e-01, 2.810e+00, 5.680e+00, 1.030e+00, 3.170e+00,\n",
              "        1.185e+03],\n",
              "       [1.437e+01, 1.950e+00, 2.500e+00, 1.680e+01, 1.130e+02, 3.850e+00,\n",
              "        3.490e+00, 2.400e-01, 2.180e+00, 7.800e+00, 8.600e-01, 3.450e+00,\n",
              "        1.480e+03],\n",
              "       [1.324e+01, 2.590e+00, 2.870e+00, 2.100e+01, 1.180e+02, 2.800e+00,\n",
              "        2.690e+00, 3.900e-01, 1.820e+00, 4.320e+00, 1.040e+00, 2.930e+00,\n",
              "        7.350e+02]])"
            ]
          },
          "execution_count": 150,
          "metadata": {},
          "output_type": "execute_result"
        }
      ],
      "source": [
        "# Look at the first five examples from the feature matrix.\n",
        "data.data[:5]"
      ]
    },
    {
      "cell_type": "markdown",
      "metadata": {
        "id": "4jRiqTDTnXX2"
      },
      "source": [
        "Find out the shape of the label matrix."
      ]
    },
    {
      "cell_type": "code",
      "execution_count": null,
      "metadata": {
        "colab": {
          "base_uri": "https://localhost:8080/"
        },
        "id": "qdnJezyuncGL",
        "outputId": "cbd9933b-ab0f-4fc9-d963-b31603ee4c1f"
      },
      "outputs": [
        {
          "data": {
            "text/plain": [
              "(178,)"
            ]
          },
          "execution_count": 151,
          "metadata": {},
          "output_type": "execute_result"
        }
      ],
      "source": [
        "# Write code to find shape of label matrix.\n",
        "data.target.shape"
      ]
    },
    {
      "cell_type": "markdown",
      "metadata": {
        "id": "o8qxk_kkn2P7"
      },
      "source": [
        "Look at the labels of the first five examples."
      ]
    },
    {
      "cell_type": "code",
      "execution_count": null,
      "metadata": {
        "colab": {
          "base_uri": "https://localhost:8080/"
        },
        "id": "oDw0-5PTn6Zc",
        "outputId": "9025c951-7f02-4ef1-994a-ead95cc2b608"
      },
      "outputs": [
        {
          "data": {
            "text/plain": [
              "array([0, 0, 0, 0, 0])"
            ]
          },
          "execution_count": 152,
          "metadata": {},
          "output_type": "execute_result"
        }
      ],
      "source": [
        "# Look at the labels of the first five examples.\n",
        "data.target[:5]"
      ]
    },
    {
      "cell_type": "markdown",
      "metadata": {
        "id": "l8HAxlPgnfYT"
      },
      "source": [
        "Find out the names of the features."
      ]
    },
    {
      "cell_type": "code",
      "execution_count": null,
      "metadata": {
        "colab": {
          "base_uri": "https://localhost:8080/"
        },
        "id": "3v8gX10Knh87",
        "outputId": "13efc7ae-ebcb-4562-e0a9-2f6f9be8ee35"
      },
      "outputs": [
        {
          "data": {
            "text/plain": [
              "['alcohol',\n",
              " 'malic_acid',\n",
              " 'ash',\n",
              " 'alcalinity_of_ash',\n",
              " 'magnesium',\n",
              " 'total_phenols',\n",
              " 'flavanoids',\n",
              " 'nonflavanoid_phenols',\n",
              " 'proanthocyanins',\n",
              " 'color_intensity',\n",
              " 'hue',\n",
              " 'od280/od315_of_diluted_wines',\n",
              " 'proline']"
            ]
          },
          "execution_count": 153,
          "metadata": {},
          "output_type": "execute_result"
        }
      ],
      "source": [
        "# Get the names of the features.\n",
        "data.feature_names"
      ]
    },
    {
      "cell_type": "markdown",
      "metadata": {
        "id": "2hwCofIunluj"
      },
      "source": [
        "Find names of class labels."
      ]
    },
    {
      "cell_type": "code",
      "execution_count": null,
      "metadata": {
        "colab": {
          "base_uri": "https://localhost:8080/"
        },
        "id": "ytZaqKnynqhT",
        "outputId": "59d31c4a-2110-480f-92ca-7ee1cd7ad02e"
      },
      "outputs": [
        {
          "data": {
            "text/plain": [
              "array(['class_0', 'class_1', 'class_2'], dtype='<U7')"
            ]
          },
          "execution_count": 154,
          "metadata": {},
          "output_type": "execute_result"
        }
      ],
      "source": [
        "# Find names of class labels.\n",
        "data.target_names"
      ]
    },
    {
      "cell_type": "markdown",
      "metadata": {
        "id": "Z__t2RLEocmc"
      },
      "source": [
        "### `load_breast_cancer`"
      ]
    },
    {
      "cell_type": "markdown",
      "metadata": {
        "id": "0Ir2IoYfocmc"
      },
      "source": [
        "**Step 1.** Import the loader."
      ]
    },
    {
      "cell_type": "code",
      "execution_count": null,
      "metadata": {
        "id": "1jSARrg1ocmc"
      },
      "outputs": [],
      "source": [
        "# Write your code here."
      ]
    },
    {
      "cell_type": "markdown",
      "metadata": {
        "id": "7ZYVIIqdocmd"
      },
      "source": [
        "**Step 1a.** In case, you want to know more about the loader, access its documentation by using `?<loader_name>' command."
      ]
    },
    {
      "cell_type": "code",
      "execution_count": null,
      "metadata": {
        "id": "WHyyxvKUocmd"
      },
      "outputs": [],
      "source": [
        "# Access the documentation."
      ]
    },
    {
      "cell_type": "markdown",
      "metadata": {
        "id": "qvaXZUvfocmd"
      },
      "source": [
        "**Step 2.** Load the dataset and obtain a `Bunch` object."
      ]
    },
    {
      "cell_type": "code",
      "execution_count": null,
      "metadata": {
        "id": "wvbHbgdCocmd"
      },
      "outputs": [],
      "source": [
        "# Call the loader and obtain the `Bunch` object."
      ]
    },
    {
      "cell_type": "markdown",
      "metadata": {
        "id": "Ra51vhfmocmd"
      },
      "source": [
        "**Step 3.** Examine the bunch object."
      ]
    },
    {
      "cell_type": "markdown",
      "metadata": {
        "id": "1Fg_Qlziocme"
      },
      "source": [
        "Look at the description of the dataset."
      ]
    },
    {
      "cell_type": "code",
      "execution_count": null,
      "metadata": {
        "id": "eaK4WHrEocme"
      },
      "outputs": [],
      "source": []
    },
    {
      "cell_type": "markdown",
      "metadata": {
        "id": "P1MxEwayocme"
      },
      "source": [
        "Find out the shape of the feature matrix."
      ]
    },
    {
      "cell_type": "code",
      "execution_count": null,
      "metadata": {
        "id": "XUMfUltMocme"
      },
      "outputs": [],
      "source": [
        "# Write code for finding the shape of the feature matrix."
      ]
    },
    {
      "cell_type": "markdown",
      "metadata": {
        "id": "0DbZTtdXocme"
      },
      "source": [
        "Look at the first five examples from the feature matrix."
      ]
    },
    {
      "cell_type": "code",
      "execution_count": null,
      "metadata": {
        "id": "jXOWajy3ocmf"
      },
      "outputs": [],
      "source": [
        "# Look at the first five examples from the feature matrix."
      ]
    },
    {
      "cell_type": "markdown",
      "metadata": {
        "id": "3EtynaMfocmf"
      },
      "source": [
        "Find out the shape of the label matrix."
      ]
    },
    {
      "cell_type": "code",
      "execution_count": null,
      "metadata": {
        "id": "eFjyDtFaocmf"
      },
      "outputs": [],
      "source": [
        "# Write code to find shape of label matrix."
      ]
    },
    {
      "cell_type": "markdown",
      "metadata": {
        "id": "t63ZIHVJocmf"
      },
      "source": [
        "Look at the labels of the first five examples."
      ]
    },
    {
      "cell_type": "code",
      "execution_count": null,
      "metadata": {
        "id": "dcuFTVw0ocmf"
      },
      "outputs": [],
      "source": [
        "# Look at the labels of the first five examples."
      ]
    },
    {
      "cell_type": "markdown",
      "metadata": {
        "id": "NRNqY7yyocmg"
      },
      "source": [
        "Find out the names of the features."
      ]
    },
    {
      "cell_type": "code",
      "execution_count": null,
      "metadata": {
        "id": "rbu5_2GWocmg"
      },
      "outputs": [],
      "source": [
        "# Get the names of the features."
      ]
    },
    {
      "cell_type": "markdown",
      "metadata": {
        "id": "jejtPi7iocmg"
      },
      "source": [
        "Find names of class labels."
      ]
    },
    {
      "cell_type": "code",
      "execution_count": null,
      "metadata": {
        "id": "fBJaGZDBocmg"
      },
      "outputs": [],
      "source": [
        "# Find names of class labels."
      ]
    },
    {
      "cell_type": "markdown",
      "metadata": {
        "id": "Y7qGuJjcoeND"
      },
      "source": [
        "### `load_linnerud`"
      ]
    },
    {
      "cell_type": "markdown",
      "metadata": {
        "id": "Bd_9RoVBoeND"
      },
      "source": [
        "**Step 1.** Import the loader."
      ]
    },
    {
      "cell_type": "code",
      "execution_count": null,
      "metadata": {
        "id": "GcjGs78KoeNE"
      },
      "outputs": [],
      "source": [
        "# Write your code here."
      ]
    },
    {
      "cell_type": "markdown",
      "metadata": {
        "id": "EGysTcyuoeNE"
      },
      "source": [
        "**Step 1a.** In case, you want to know more about the loader, access its documentation by using `?<loader_name>' command."
      ]
    },
    {
      "cell_type": "code",
      "execution_count": null,
      "metadata": {
        "id": "02AfJocVoeNE"
      },
      "outputs": [],
      "source": [
        "# Access the documentation."
      ]
    },
    {
      "cell_type": "markdown",
      "metadata": {
        "id": "GxTe7dQ5oeNE"
      },
      "source": [
        "**Step 2.** Load the dataset and obtain a `Bunch` object."
      ]
    },
    {
      "cell_type": "code",
      "execution_count": null,
      "metadata": {
        "id": "M9Shy3P2oeNE"
      },
      "outputs": [],
      "source": [
        "# Call the loader and obtain the `Bunch` object."
      ]
    },
    {
      "cell_type": "markdown",
      "metadata": {
        "id": "xQyOxG42oeNF"
      },
      "source": [
        "**Step 3.** Examine the bunch object."
      ]
    },
    {
      "cell_type": "markdown",
      "metadata": {
        "id": "7tHewxI9oeNF"
      },
      "source": [
        "Look at the description of the dataset."
      ]
    },
    {
      "cell_type": "code",
      "execution_count": null,
      "metadata": {
        "id": "AGPE58VboeNF"
      },
      "outputs": [],
      "source": []
    },
    {
      "cell_type": "markdown",
      "metadata": {
        "id": "ZkpOlILMoeNF"
      },
      "source": [
        "Find out the shape of the feature matrix."
      ]
    },
    {
      "cell_type": "code",
      "execution_count": null,
      "metadata": {
        "id": "dBPOWxkAoeNF"
      },
      "outputs": [],
      "source": [
        "# Write code for finding the shape of the feature matrix."
      ]
    },
    {
      "cell_type": "markdown",
      "metadata": {
        "id": "0dNHA-XMoeNF"
      },
      "source": [
        "Look at the first five examples from the feature matrix."
      ]
    },
    {
      "cell_type": "code",
      "execution_count": null,
      "metadata": {
        "id": "S3MWmsjRoeNG"
      },
      "outputs": [],
      "source": [
        "# Look at the first five examples from the feature matrix."
      ]
    },
    {
      "cell_type": "markdown",
      "metadata": {
        "id": "gFu0EfyMoeNG"
      },
      "source": [
        "Find out the shape of the label matrix."
      ]
    },
    {
      "cell_type": "code",
      "execution_count": null,
      "metadata": {
        "id": "QwhkG2RSoeNG"
      },
      "outputs": [],
      "source": [
        "# Write code to find shape of label matrix."
      ]
    },
    {
      "cell_type": "markdown",
      "metadata": {
        "id": "PZ7IyaV5oeNG"
      },
      "source": [
        "Look at the labels of the first five examples."
      ]
    },
    {
      "cell_type": "code",
      "execution_count": null,
      "metadata": {
        "id": "6HIqZKH4oeNG"
      },
      "outputs": [],
      "source": [
        "# Look at the labels of the first five examples."
      ]
    },
    {
      "cell_type": "markdown",
      "metadata": {
        "id": "6iaKV8f9oeNG"
      },
      "source": [
        "Find out the names of the features."
      ]
    },
    {
      "cell_type": "code",
      "execution_count": null,
      "metadata": {
        "id": "b_6hLoL4oeNH"
      },
      "outputs": [],
      "source": [
        "# Get the names of the features."
      ]
    },
    {
      "cell_type": "markdown",
      "metadata": {
        "id": "hFVTPks-oeNH"
      },
      "source": [
        "Find names of class labels."
      ]
    },
    {
      "cell_type": "code",
      "execution_count": null,
      "metadata": {
        "id": "WnF7HZN1oeNH"
      },
      "outputs": [],
      "source": [
        "# Find names of class labels."
      ]
    },
    {
      "cell_type": "markdown",
      "metadata": {
        "id": "I81oLrXrqbTZ"
      },
      "source": [
        "# Fetchers"
      ]
    },
    {
      "cell_type": "markdown",
      "metadata": {
        "id": "CND7NmTZrf27"
      },
      "source": [
        "## `fetch_california_housing`"
      ]
    },
    {
      "cell_type": "markdown",
      "metadata": {
        "id": "JOGB_KvuseXj"
      },
      "source": [
        "**Step 1**: Import the library and access the documentation."
      ]
    },
    {
      "cell_type": "code",
      "execution_count": null,
      "metadata": {
        "id": "iOxB9gydrjHS"
      },
      "outputs": [],
      "source": [
        "from sklearn.datasets import fetch_california_housing\n",
        "?fetch_california_housing"
      ]
    },
    {
      "cell_type": "markdown",
      "metadata": {
        "id": "5PXp5NYmryOq"
      },
      "source": [
        "Note that the `fetch_`* also returns a `Bunch` object just like loaders."
      ]
    },
    {
      "cell_type": "markdown",
      "metadata": {
        "id": "CewHRJkHsKni"
      },
      "source": [
        "We can examine various attributes of this dataset on the lines of datasets in loaders."
      ]
    },
    {
      "cell_type": "markdown",
      "metadata": {
        "id": "pENdcsQxsYgo"
      },
      "source": [
        "**Step 2.** Load the dataset and obtain a `Bunch` object."
      ]
    },
    {
      "cell_type": "code",
      "execution_count": null,
      "metadata": {
        "id": "u937HqyDsYgo"
      },
      "outputs": [],
      "source": [
        "# Call the loader and obtain the `Bunch` object.\n",
        "housing_data = fetch_california_housing()"
      ]
    },
    {
      "cell_type": "markdown",
      "metadata": {
        "id": "-MSRe343sYgp"
      },
      "source": [
        "**Step 3.** Examine the bunch object."
      ]
    },
    {
      "cell_type": "markdown",
      "metadata": {
        "id": "JqNnOu6LsYgp"
      },
      "source": [
        "Look at the description of the dataset."
      ]
    },
    {
      "cell_type": "code",
      "execution_count": null,
      "metadata": {
        "colab": {
          "base_uri": "https://localhost:8080/",
          "height": 160
        },
        "id": "Xm32qSqYsYgp",
        "outputId": "f91de367-260a-4da0-c38a-2a5099e6bdd3"
      },
      "outputs": [
        {
          "data": {
            "application/vnd.google.colaboratory.intrinsic+json": {
              "type": "string"
            },
            "text/plain": [
              "'.. _california_housing_dataset:\\n\\nCalifornia Housing dataset\\n--------------------------\\n\\n**Data Set Characteristics:**\\n\\n    :Number of Instances: 20640\\n\\n    :Number of Attributes: 8 numeric, predictive attributes and the target\\n\\n    :Attribute Information:\\n        - MedInc        median income in block group\\n        - HouseAge      median house age in block group\\n        - AveRooms      average number of rooms per household\\n        - AveBedrms     average number of bedrooms per household\\n        - Population    block group population\\n        - AveOccup      average number of household members\\n        - Latitude      block group latitude\\n        - Longitude     block group longitude\\n\\n    :Missing Attribute Values: None\\n\\nThis dataset was obtained from the StatLib repository.\\nhttps://www.dcc.fc.up.pt/~ltorgo/Regression/cal_housing.html\\n\\nThe target variable is the median house value for California districts,\\nexpressed in hundreds of thousands of dollars ($100,000).\\n\\nThis dataset was derived from the 1990 U.S. census, using one row per census\\nblock group. A block group is the smallest geographical unit for which the U.S.\\nCensus Bureau publishes sample data (a block group typically has a population\\nof 600 to 3,000 people).\\n\\nAn household is a group of people residing within a home. Since the average\\nnumber of rooms and bedrooms in this dataset are provided per household, these\\ncolumns may take surpinsingly large values for block groups with few households\\nand many empty houses, such as vacation resorts.\\n\\nIt can be downloaded/loaded using the\\n:func:`sklearn.datasets.fetch_california_housing` function.\\n\\n.. topic:: References\\n\\n    - Pace, R. Kelley and Ronald Barry, Sparse Spatial Autoregressions,\\n      Statistics and Probability Letters, 33 (1997) 291-297\\n'"
            ]
          },
          "execution_count": 175,
          "metadata": {},
          "output_type": "execute_result"
        }
      ],
      "source": [
        "housing_data.DESCR"
      ]
    },
    {
      "cell_type": "markdown",
      "metadata": {
        "id": "mChKsmLmsYgp"
      },
      "source": [
        "Find out the shape of the feature matrix."
      ]
    },
    {
      "cell_type": "code",
      "execution_count": null,
      "metadata": {
        "colab": {
          "base_uri": "https://localhost:8080/"
        },
        "id": "Pwu9eU0msYgp",
        "outputId": "2bfabc19-3928-48dc-b2c3-2b8c1d0251d9"
      },
      "outputs": [
        {
          "data": {
            "text/plain": [
              "(20640, 8)"
            ]
          },
          "execution_count": 176,
          "metadata": {},
          "output_type": "execute_result"
        }
      ],
      "source": [
        "# Write code for finding the shape of the feature matrix.\n",
        "housing_data.data.shape"
      ]
    },
    {
      "cell_type": "markdown",
      "metadata": {
        "id": "gnYHOjAQsYgp"
      },
      "source": [
        "Look at the first five examples from the feature matrix."
      ]
    },
    {
      "cell_type": "code",
      "execution_count": null,
      "metadata": {
        "colab": {
          "base_uri": "https://localhost:8080/"
        },
        "id": "RggbI7ewsYgp",
        "outputId": "3828bf59-5361-4388-f21a-d9183be2b4b5"
      },
      "outputs": [
        {
          "data": {
            "text/plain": [
              "array([[ 8.32520000e+00,  4.10000000e+01,  6.98412698e+00,\n",
              "         1.02380952e+00,  3.22000000e+02,  2.55555556e+00,\n",
              "         3.78800000e+01, -1.22230000e+02],\n",
              "       [ 8.30140000e+00,  2.10000000e+01,  6.23813708e+00,\n",
              "         9.71880492e-01,  2.40100000e+03,  2.10984183e+00,\n",
              "         3.78600000e+01, -1.22220000e+02],\n",
              "       [ 7.25740000e+00,  5.20000000e+01,  8.28813559e+00,\n",
              "         1.07344633e+00,  4.96000000e+02,  2.80225989e+00,\n",
              "         3.78500000e+01, -1.22240000e+02],\n",
              "       [ 5.64310000e+00,  5.20000000e+01,  5.81735160e+00,\n",
              "         1.07305936e+00,  5.58000000e+02,  2.54794521e+00,\n",
              "         3.78500000e+01, -1.22250000e+02],\n",
              "       [ 3.84620000e+00,  5.20000000e+01,  6.28185328e+00,\n",
              "         1.08108108e+00,  5.65000000e+02,  2.18146718e+00,\n",
              "         3.78500000e+01, -1.22250000e+02]])"
            ]
          },
          "execution_count": 177,
          "metadata": {},
          "output_type": "execute_result"
        }
      ],
      "source": [
        "# Look at the first five examples from the feature matrix.\n",
        "housing_data.data[:5]"
      ]
    },
    {
      "cell_type": "markdown",
      "metadata": {
        "id": "tLuU15qGsYgq"
      },
      "source": [
        "Find out the shape of the label matrix."
      ]
    },
    {
      "cell_type": "code",
      "execution_count": null,
      "metadata": {
        "colab": {
          "base_uri": "https://localhost:8080/"
        },
        "id": "lMNeni_esYgq",
        "outputId": "973923ae-6352-46f5-a42b-6e1fc849d8c3"
      },
      "outputs": [
        {
          "data": {
            "text/plain": [
              "(20640,)"
            ]
          },
          "execution_count": 178,
          "metadata": {},
          "output_type": "execute_result"
        }
      ],
      "source": [
        "# Write code to find shape of label matrix.\n",
        "housing_data.target.shape"
      ]
    },
    {
      "cell_type": "markdown",
      "metadata": {
        "id": "wlPw8I4osYgq"
      },
      "source": [
        "Look at the labels of the first five examples."
      ]
    },
    {
      "cell_type": "code",
      "execution_count": null,
      "metadata": {
        "colab": {
          "base_uri": "https://localhost:8080/"
        },
        "id": "pll2lhaMsYgq",
        "outputId": "169e4185-94d8-4704-f5cf-76be25c7f3c3"
      },
      "outputs": [
        {
          "data": {
            "text/plain": [
              "array([4.526, 3.585, 3.521, 3.413, 3.422])"
            ]
          },
          "execution_count": 179,
          "metadata": {},
          "output_type": "execute_result"
        }
      ],
      "source": [
        "# Look at the labels of the first five examples.\n",
        "housing_data.target[:5]"
      ]
    },
    {
      "cell_type": "markdown",
      "metadata": {
        "id": "djPG4LEks4ot"
      },
      "source": [
        "Note that the labels seem to be real numbers."
      ]
    },
    {
      "cell_type": "markdown",
      "metadata": {
        "id": "LrzrRwypsYgq"
      },
      "source": [
        "Find out the names of the features."
      ]
    },
    {
      "cell_type": "code",
      "execution_count": null,
      "metadata": {
        "colab": {
          "base_uri": "https://localhost:8080/"
        },
        "id": "iI13vbRjsYgr",
        "outputId": "99c1e531-2016-4132-f9d7-55bcc7f711c0"
      },
      "outputs": [
        {
          "data": {
            "text/plain": [
              "['MedInc',\n",
              " 'HouseAge',\n",
              " 'AveRooms',\n",
              " 'AveBedrms',\n",
              " 'Population',\n",
              " 'AveOccup',\n",
              " 'Latitude',\n",
              " 'Longitude']"
            ]
          },
          "execution_count": 180,
          "metadata": {},
          "output_type": "execute_result"
        }
      ],
      "source": [
        "# Get the names of the features.\n",
        "housing_data.feature_names"
      ]
    },
    {
      "cell_type": "markdown",
      "metadata": {
        "id": "de5H95zpsYgr"
      },
      "source": [
        "Find names of class labels."
      ]
    },
    {
      "cell_type": "code",
      "execution_count": null,
      "metadata": {
        "colab": {
          "base_uri": "https://localhost:8080/"
        },
        "id": "rfVZsB3rsYgr",
        "outputId": "985fa3d6-203e-45d9-8c11-64308f311384"
      },
      "outputs": [
        {
          "data": {
            "text/plain": [
              "['MedHouseVal']"
            ]
          },
          "execution_count": 181,
          "metadata": {},
          "output_type": "execute_result"
        }
      ],
      "source": [
        "# Find names of class labels.\n",
        "housing_data.target_names"
      ]
    },
    {
      "cell_type": "markdown",
      "metadata": {
        "id": "gMLE0dKkqPvx"
      },
      "source": [
        "## `fetch_openml`"
      ]
    },
    {
      "cell_type": "markdown",
      "metadata": {
        "id": "9QMH68xbrhE0"
      },
      "source": [
        "[openml.org](openml.org) is a public repository for machine learning data and experiments, that allows everybody to upload open datasets."
      ]
    },
    {
      "cell_type": "markdown",
      "metadata": {
        "id": "BX25tu_OqZ8E"
      },
      "source": [
        "Import the library and access the documentation."
      ]
    },
    {
      "cell_type": "code",
      "execution_count": null,
      "metadata": {
        "id": "1naI0htXqacE"
      },
      "outputs": [],
      "source": [
        "from sklearn.datasets import fetch_openml\n",
        "?fetch_openml"
      ]
    },
    {
      "cell_type": "markdown",
      "metadata": {
        "id": "PCPZocv4qvUs"
      },
      "source": [
        "Note that this is an experimental API and is likely to change in the future releases.\n",
        "\n",
        "> We use this API for loading MNIST dataset."
      ]
    },
    {
      "cell_type": "code",
      "execution_count": null,
      "metadata": {
        "colab": {
          "base_uri": "https://localhost:8080/"
        },
        "id": "6rNj-gIAsUhi",
        "outputId": "2b99eaee-6eb0-4e13-ab5e-fd0d80ca236e"
      },
      "outputs": [
        {
          "name": "stdout",
          "output_type": "stream",
          "text": [
            "Feature matrix shape: (70000, 784)\n",
            "Label shape: (70000,)\n"
          ]
        }
      ],
      "source": [
        "X, y = fetch_openml('mnist_784', version=1, return_X_y=True)\n",
        "print (\"Feature matrix shape:\", X.shape)\n",
        "print (\"Label shape:\", y.shape)"
      ]
    },
    {
      "cell_type": "markdown",
      "metadata": {
        "id": "v_t4hYhdtLlz"
      },
      "source": [
        "## Exercise"
      ]
    },
    {
      "cell_type": "markdown",
      "metadata": {
        "id": "rvQLljdbtPC-"
      },
      "source": [
        "### `fetch_20newsgroups`"
      ]
    },
    {
      "cell_type": "markdown",
      "metadata": {
        "id": "AZ9IeH29tPC-"
      },
      "source": [
        "**Step 1.** Import the loader."
      ]
    },
    {
      "cell_type": "code",
      "execution_count": null,
      "metadata": {
        "id": "iwvFVMvMtPC-"
      },
      "outputs": [],
      "source": [
        "# Write your code here."
      ]
    },
    {
      "cell_type": "markdown",
      "metadata": {
        "id": "4zenN776tPC_"
      },
      "source": [
        "**Step 1a.** In case, you want to know more about the loader, access its documentation by using `?<loader_name>' command."
      ]
    },
    {
      "cell_type": "code",
      "execution_count": null,
      "metadata": {
        "id": "foPlHugPtPC_"
      },
      "outputs": [],
      "source": [
        "# Access the documentation."
      ]
    },
    {
      "cell_type": "markdown",
      "metadata": {
        "id": "yEG2jTNJtPC_"
      },
      "source": [
        "**Step 2.** Load the dataset and obtain a `Bunch` object."
      ]
    },
    {
      "cell_type": "code",
      "execution_count": null,
      "metadata": {
        "id": "M83ReTRDtPC_"
      },
      "outputs": [],
      "source": [
        "# Call the loader and obtain the `Bunch` object."
      ]
    },
    {
      "cell_type": "markdown",
      "metadata": {
        "id": "lKDSex6OtPC_"
      },
      "source": [
        "**Step 3.** Examine the bunch object."
      ]
    },
    {
      "cell_type": "markdown",
      "metadata": {
        "id": "7VehssILtPDA"
      },
      "source": [
        "Look at the description of the dataset."
      ]
    },
    {
      "cell_type": "code",
      "execution_count": null,
      "metadata": {
        "id": "OP2myCHXtPDA"
      },
      "outputs": [],
      "source": []
    },
    {
      "cell_type": "markdown",
      "metadata": {
        "id": "5Ha7Ok0EtPDA"
      },
      "source": [
        "Find out the shape of the feature matrix."
      ]
    },
    {
      "cell_type": "code",
      "execution_count": null,
      "metadata": {
        "id": "lQuMoSuMtPDA"
      },
      "outputs": [],
      "source": [
        "# Write code for finding the shape of the feature matrix."
      ]
    },
    {
      "cell_type": "markdown",
      "metadata": {
        "id": "hzFHPamHtPDB"
      },
      "source": [
        "Look at the first five examples from the feature matrix."
      ]
    },
    {
      "cell_type": "code",
      "execution_count": null,
      "metadata": {
        "id": "4Wn-MvuztPDB"
      },
      "outputs": [],
      "source": [
        "# Look at the first five examples from the feature matrix."
      ]
    },
    {
      "cell_type": "markdown",
      "metadata": {
        "id": "bSMFqIQytPDB"
      },
      "source": [
        "Find out the shape of the label matrix."
      ]
    },
    {
      "cell_type": "code",
      "execution_count": null,
      "metadata": {
        "id": "7gRXR1C6tPDC"
      },
      "outputs": [],
      "source": [
        "# Write code to find shape of label matrix."
      ]
    },
    {
      "cell_type": "markdown",
      "metadata": {
        "id": "puPhB-WitPDC"
      },
      "source": [
        "Look at the labels of the first five examples."
      ]
    },
    {
      "cell_type": "code",
      "execution_count": null,
      "metadata": {
        "id": "9ApeueqVtPDC"
      },
      "outputs": [],
      "source": [
        "# Look at the labels of the first five examples."
      ]
    },
    {
      "cell_type": "markdown",
      "metadata": {
        "id": "IZ3TNWfDtPDC"
      },
      "source": [
        "Find out the names of the features."
      ]
    },
    {
      "cell_type": "code",
      "execution_count": null,
      "metadata": {
        "id": "aQdguR1RtPDC"
      },
      "outputs": [],
      "source": [
        "# Get the names of the features."
      ]
    },
    {
      "cell_type": "markdown",
      "metadata": {
        "id": "pxM21e8ntPDD"
      },
      "source": [
        "Find names of class labels."
      ]
    },
    {
      "cell_type": "code",
      "execution_count": null,
      "metadata": {
        "id": "ss8Sli1itPDD"
      },
      "outputs": [],
      "source": [
        "# Find names of class labels."
      ]
    },
    {
      "cell_type": "markdown",
      "metadata": {
        "id": "i494pktStXXp"
      },
      "source": [
        "### `fetch_kddcup99`"
      ]
    },
    {
      "cell_type": "markdown",
      "metadata": {
        "id": "kvVBCIWdtXXq"
      },
      "source": [
        "**Step 1.** Import the loader."
      ]
    },
    {
      "cell_type": "code",
      "execution_count": null,
      "metadata": {
        "id": "TfILwGcttXXq"
      },
      "outputs": [],
      "source": [
        "# Write your code here."
      ]
    },
    {
      "cell_type": "markdown",
      "metadata": {
        "id": "aRWlTKm8tXXq"
      },
      "source": [
        "**Step 1a.** In case, you want to know more about the loader, access its documentation by using `?<loader_name>' command."
      ]
    },
    {
      "cell_type": "code",
      "execution_count": null,
      "metadata": {
        "id": "_NiMMVmltXXr"
      },
      "outputs": [],
      "source": [
        "# Access the documentation."
      ]
    },
    {
      "cell_type": "markdown",
      "metadata": {
        "id": "ecWMTHNwtXXr"
      },
      "source": [
        "**Step 2.** Load the dataset and obtain a `Bunch` object."
      ]
    },
    {
      "cell_type": "code",
      "execution_count": null,
      "metadata": {
        "id": "ryGcJjd6tXXr"
      },
      "outputs": [],
      "source": [
        "# Call the loader and obtain the `Bunch` object."
      ]
    },
    {
      "cell_type": "markdown",
      "metadata": {
        "id": "5I9of7cktXXr"
      },
      "source": [
        "**Step 3.** Examine the bunch object."
      ]
    },
    {
      "cell_type": "markdown",
      "metadata": {
        "id": "PZRkHo1FtXXr"
      },
      "source": [
        "Look at the description of the dataset."
      ]
    },
    {
      "cell_type": "code",
      "execution_count": null,
      "metadata": {
        "id": "NDgnyjTytXXr"
      },
      "outputs": [],
      "source": []
    },
    {
      "cell_type": "markdown",
      "metadata": {
        "id": "DAqPd3fwtXXs"
      },
      "source": [
        "Find out the shape of the feature matrix."
      ]
    },
    {
      "cell_type": "code",
      "execution_count": null,
      "metadata": {
        "id": "hY0BNEr8tXXs"
      },
      "outputs": [],
      "source": [
        "# Write code for finding the shape of the feature matrix."
      ]
    },
    {
      "cell_type": "markdown",
      "metadata": {
        "id": "WGUKjT9RtXXs"
      },
      "source": [
        "Look at the first five examples from the feature matrix."
      ]
    },
    {
      "cell_type": "code",
      "execution_count": null,
      "metadata": {
        "id": "6TSC8NEgtXXs"
      },
      "outputs": [],
      "source": [
        "# Look at the first five examples from the feature matrix."
      ]
    },
    {
      "cell_type": "markdown",
      "metadata": {
        "id": "LNZs4Qw0tXXs"
      },
      "source": [
        "Find out the shape of the label matrix."
      ]
    },
    {
      "cell_type": "code",
      "execution_count": null,
      "metadata": {
        "id": "Ju5s5PSMtXXt"
      },
      "outputs": [],
      "source": [
        "# Write code to find shape of label matrix."
      ]
    },
    {
      "cell_type": "markdown",
      "metadata": {
        "id": "sG4dd09btXXt"
      },
      "source": [
        "Look at the labels of the first five examples."
      ]
    },
    {
      "cell_type": "code",
      "execution_count": null,
      "metadata": {
        "id": "WyFOs2AAtXXt"
      },
      "outputs": [],
      "source": [
        "# Look at the labels of the first five examples."
      ]
    },
    {
      "cell_type": "markdown",
      "metadata": {
        "id": "W-ejbCIQtXXt"
      },
      "source": [
        "Find out the names of the features."
      ]
    },
    {
      "cell_type": "code",
      "execution_count": null,
      "metadata": {
        "id": "yGyosWP4tXXt"
      },
      "outputs": [],
      "source": [
        "# Get the names of the features."
      ]
    },
    {
      "cell_type": "markdown",
      "metadata": {
        "id": "_ioeru7ltXXt"
      },
      "source": [
        "Find names of class labels."
      ]
    },
    {
      "cell_type": "code",
      "execution_count": null,
      "metadata": {
        "id": "v8qikeYmtXXu"
      },
      "outputs": [],
      "source": [
        "# Find names of class labels."
      ]
    },
    {
      "cell_type": "markdown",
      "metadata": {
        "id": "11SPfnsVtlm4"
      },
      "source": [
        "# Generators"
      ]
    },
    {
      "cell_type": "markdown",
      "metadata": {
        "id": "9sKta_WnxmeR"
      },
      "source": [
        "### `make_regression`"
      ]
    },
    {
      "cell_type": "code",
      "execution_count": null,
      "metadata": {
        "id": "3YtThLhlt8af"
      },
      "outputs": [],
      "source": [
        "from sklearn.datasets import make_regression\n",
        "?make_regression"
      ]
    },
    {
      "cell_type": "markdown",
      "metadata": {
        "id": "E1uM_6KatoYT"
      },
      "source": [
        "#### Example 1\n",
        "\n",
        "Let's generate 100 samples with 5 features for a single label regression problem."
      ]
    },
    {
      "cell_type": "code",
      "execution_count": null,
      "metadata": {
        "id": "0txarhkHvIo4"
      },
      "outputs": [],
      "source": [
        "X, y = make_regression(n_samples=100, n_features=5, n_targets=1, shuffle=True, random_state=42)"
      ]
    },
    {
      "cell_type": "markdown",
      "metadata": {
        "id": "g71Fu_Npv9c0"
      },
      "source": [
        "It's a good practice to set seed so that we get to see repeatability in the experimentation."
      ]
    },
    {
      "cell_type": "markdown",
      "metadata": {
        "id": "0AkobIpIwPTl"
      },
      "source": [
        "Let's look at the shapes of feature matrix and label vector."
      ]
    },
    {
      "cell_type": "code",
      "execution_count": null,
      "metadata": {
        "colab": {
          "base_uri": "https://localhost:8080/"
        },
        "id": "y5QaszYEwH3T",
        "outputId": "db1e130a-61ce-40d0-af10-77d8bb81fbc7"
      },
      "outputs": [
        {
          "data": {
            "text/plain": [
              "(100, 5)"
            ]
          },
          "execution_count": 204,
          "metadata": {},
          "output_type": "execute_result"
        }
      ],
      "source": [
        "X.shape"
      ]
    },
    {
      "cell_type": "code",
      "execution_count": null,
      "metadata": {
        "colab": {
          "base_uri": "https://localhost:8080/"
        },
        "id": "onBo4zWswToE",
        "outputId": "10872d96-21fe-4dbe-e4c4-58397fe24385"
      },
      "outputs": [
        {
          "data": {
            "text/plain": [
              "(100,)"
            ]
          },
          "execution_count": 205,
          "metadata": {},
          "output_type": "execute_result"
        }
      ],
      "source": [
        "y.shape"
      ]
    },
    {
      "cell_type": "markdown",
      "metadata": {
        "id": "DT5436PfwVnc"
      },
      "source": [
        "#### Example 2\n",
        "\n",
        "Let's generate 100 samples with 5 features for multiple regression problem with 5 outputs."
      ]
    },
    {
      "cell_type": "code",
      "execution_count": null,
      "metadata": {
        "id": "0i5jmxJIwf7d"
      },
      "outputs": [],
      "source": [
        "X, y = make_regression(n_samples=100, n_features=5, n_targets=5, shuffle=True, random_state=42)"
      ]
    },
    {
      "cell_type": "markdown",
      "metadata": {
        "id": "AnjnSDRowwPN"
      },
      "source": [
        "Let's look at the shapes of feature matrix and label vector."
      ]
    },
    {
      "cell_type": "code",
      "execution_count": null,
      "metadata": {
        "colab": {
          "base_uri": "https://localhost:8080/"
        },
        "id": "_CVzkI4DwxGx",
        "outputId": "f3e6657b-76d0-4258-f23c-bb0e0d5dc75c"
      },
      "outputs": [
        {
          "data": {
            "text/plain": [
              "(100, 5)"
            ]
          },
          "execution_count": 207,
          "metadata": {},
          "output_type": "execute_result"
        }
      ],
      "source": [
        "X.shape"
      ]
    },
    {
      "cell_type": "code",
      "execution_count": null,
      "metadata": {
        "colab": {
          "base_uri": "https://localhost:8080/"
        },
        "id": "iBlknnn8wzKg",
        "outputId": "9b547dfd-1c46-4acb-ffe4-433ff8a63682"
      },
      "outputs": [
        {
          "data": {
            "text/plain": [
              "(100, 5)"
            ]
          },
          "execution_count": 208,
          "metadata": {},
          "output_type": "execute_result"
        }
      ],
      "source": [
        "y.shape"
      ]
    },
    {
      "cell_type": "markdown",
      "metadata": {
        "id": "bR9Rllmtw0pd"
      },
      "source": [
        "Since we generated multi-output target with 5 outputs, the output has shape `(100, 5)`."
      ]
    },
    {
      "cell_type": "markdown",
      "metadata": {
        "id": "AzmTfT6exhur"
      },
      "source": [
        "## `make_classification`\n",
        "\n",
        "Generate a random $n$-class classification problem set up."
      ]
    },
    {
      "cell_type": "code",
      "execution_count": null,
      "metadata": {
        "id": "VYeWjwchydoC"
      },
      "outputs": [],
      "source": [
        "from sklearn.datasets import make_classification\n",
        "?make_classification"
      ]
    },
    {
      "cell_type": "markdown",
      "metadata": {
        "id": "XRlXwE4wyo1w"
      },
      "source": [
        "Let's generate a binary classification problem with 10 features and 100 samples."
      ]
    },
    {
      "cell_type": "code",
      "execution_count": null,
      "metadata": {
        "id": "A5QwoA2YywMz"
      },
      "outputs": [],
      "source": [
        "X, y = make_classification(n_samples=100, n_features=10, n_classes=2, n_clusters_per_class=1, random_state=42)"
      ]
    },
    {
      "cell_type": "markdown",
      "metadata": {
        "id": "NB_irsHDzJXt"
      },
      "source": [
        "Let's examine the shapes of feature matrix and label vector."
      ]
    },
    {
      "cell_type": "code",
      "execution_count": null,
      "metadata": {
        "colab": {
          "base_uri": "https://localhost:8080/"
        },
        "id": "_w_CSWa1zI7V",
        "outputId": "0c7913eb-7ded-4cbb-c643-e87e9317d23c"
      },
      "outputs": [
        {
          "data": {
            "text/plain": [
              "(100, 10)"
            ]
          },
          "execution_count": 211,
          "metadata": {},
          "output_type": "execute_result"
        }
      ],
      "source": [
        "X.shape"
      ]
    },
    {
      "cell_type": "code",
      "execution_count": null,
      "metadata": {
        "colab": {
          "base_uri": "https://localhost:8080/"
        },
        "id": "CjB4AfDlzSvQ",
        "outputId": "53b042bc-749c-4d15-c48c-b1c91621f0a1"
      },
      "outputs": [
        {
          "data": {
            "text/plain": [
              "(100,)"
            ]
          },
          "execution_count": 212,
          "metadata": {},
          "output_type": "execute_result"
        }
      ],
      "source": [
        "y.shape"
      ]
    },
    {
      "cell_type": "markdown",
      "metadata": {
        "id": "8iuFSsT3zWT3"
      },
      "source": [
        "Look at a few examples and their labels."
      ]
    },
    {
      "cell_type": "code",
      "execution_count": null,
      "metadata": {
        "colab": {
          "base_uri": "https://localhost:8080/"
        },
        "id": "H1WOqJ88zc13",
        "outputId": "beaffdc6-3750-4286-bb28-8bbbe5494d92"
      },
      "outputs": [
        {
          "data": {
            "text/plain": [
              "array([[ 0.11422765, -1.71016839, -0.06822216, -0.14928517,  0.30780177,\n",
              "         0.15030176, -0.05694562, -0.22595246, -0.36361221, -0.13818757],\n",
              "       [ 0.70775194, -1.57022472, -0.23503183, -0.63604713,  0.62180996,\n",
              "        -0.56246678,  0.97255445, -0.77719676,  0.63240774, -0.47809669],\n",
              "       [ 0.63859246,  0.04739867,  0.33273433,  1.1046981 , -0.65183611,\n",
              "        -1.66152006, -1.2110162 ,  1.09821151, -0.0660798 ,  0.68024225],\n",
              "       [-0.23894805, -0.97755524,  0.0379061 ,  0.19896733,  0.50091719,\n",
              "        -0.90756366,  0.75539123,  0.12437227, -0.57677133,  0.07871283],\n",
              "       [-0.59239392, -0.05023811,  0.17573204, -1.43949185,  0.27045683,\n",
              "        -0.86399077, -0.83095012,  0.60046915,  0.04852163,  0.32557953]])"
            ]
          },
          "execution_count": 213,
          "metadata": {},
          "output_type": "execute_result"
        }
      ],
      "source": [
        "X[:5]"
      ]
    },
    {
      "cell_type": "code",
      "execution_count": null,
      "metadata": {
        "colab": {
          "base_uri": "https://localhost:8080/"
        },
        "id": "TELLpHNEzgMX",
        "outputId": "c01263dc-ef1e-4063-eac5-c05153f80abf"
      },
      "outputs": [
        {
          "data": {
            "text/plain": [
              "array([1, 1, 1, 1, 0])"
            ]
          },
          "execution_count": 214,
          "metadata": {},
          "output_type": "execute_result"
        }
      ],
      "source": [
        "y[:5]"
      ]
    },
    {
      "cell_type": "markdown",
      "metadata": {
        "id": "V3PWpe-Rzt5Y"
      },
      "source": [
        "Let's generate a three class classification problem with 100 samples and 10 features."
      ]
    },
    {
      "cell_type": "code",
      "execution_count": null,
      "metadata": {
        "id": "ROmS3Lz8znzw"
      },
      "outputs": [],
      "source": [
        "X, y = make_classification(n_samples=100, n_features=10, n_classes=3, n_clusters_per_class=1, random_state=42)"
      ]
    },
    {
      "cell_type": "markdown",
      "metadata": {
        "id": "b5CDRJ45z48k"
      },
      "source": [
        "Let's examine shapes of feature matrix and labels."
      ]
    },
    {
      "cell_type": "code",
      "execution_count": null,
      "metadata": {
        "colab": {
          "base_uri": "https://localhost:8080/"
        },
        "id": "0TqZGtrHzyqa",
        "outputId": "9067f5c5-9adf-4c69-bb0e-19f2c7ff7ca4"
      },
      "outputs": [
        {
          "data": {
            "text/plain": [
              "(100, 10)"
            ]
          },
          "execution_count": 216,
          "metadata": {},
          "output_type": "execute_result"
        }
      ],
      "source": [
        "X.shape"
      ]
    },
    {
      "cell_type": "code",
      "execution_count": null,
      "metadata": {
        "colab": {
          "base_uri": "https://localhost:8080/"
        },
        "id": "o8ZLsfRNz0Bw",
        "outputId": "7f85816e-f65e-4ba8-fe08-72df282dbefe"
      },
      "outputs": [
        {
          "data": {
            "text/plain": [
              "(100,)"
            ]
          },
          "execution_count": 217,
          "metadata": {},
          "output_type": "execute_result"
        }
      ],
      "source": [
        "y.shape"
      ]
    },
    {
      "cell_type": "markdown",
      "metadata": {
        "id": "CqXb7ahT0AFh"
      },
      "source": [
        "Let's look at a few examples - features and labels."
      ]
    },
    {
      "cell_type": "code",
      "execution_count": null,
      "metadata": {
        "colab": {
          "base_uri": "https://localhost:8080/"
        },
        "id": "lr8GyM2r0GmL",
        "outputId": "1f69493e-e90d-4d9b-cdd3-f71694b1b332"
      },
      "outputs": [
        {
          "data": {
            "text/plain": [
              "array([[-0.58351628, -1.73833907, -1.37298251, -1.77311485,  0.45918008,\n",
              "         0.83392215, -1.66096093,  0.20768769, -0.07016571,  0.42961822],\n",
              "       [-1.0044394 , -1.43862044,  0.47335819, -0.21188291,  0.0125924 ,\n",
              "         0.22409248, -0.77300978,  0.49799829,  0.0976761 ,  0.02451017],\n",
              "       [ 0.07740833,  0.19896733,  0.12437227,  0.17738132, -0.97755524,\n",
              "         0.50091719,  0.75138712,  0.54336019,  0.09933231, -1.66940528],\n",
              "       [-0.91759569, -0.9609536 ,  1.07746664,  0.4522739 , -0.32138584,\n",
              "        -0.8254972 , -0.56372455,  0.24368721,  0.41293145, -0.8222204 ],\n",
              "       [-0.96222828, -0.96090774,  1.21530116,  0.55980482, -1.24778318,\n",
              "        -0.25256815, -1.43014138,  0.13074058,  1.6324113 , -0.44004449]])"
            ]
          },
          "execution_count": 218,
          "metadata": {},
          "output_type": "execute_result"
        }
      ],
      "source": [
        "X[:5]"
      ]
    },
    {
      "cell_type": "code",
      "execution_count": null,
      "metadata": {
        "colab": {
          "base_uri": "https://localhost:8080/"
        },
        "id": "mEghbrdpz1Z4",
        "outputId": "384e4c78-ef4b-41ea-d318-4c659e512955"
      },
      "outputs": [
        {
          "data": {
            "text/plain": [
              "array([2, 0, 1, 0, 0])"
            ]
          },
          "execution_count": 219,
          "metadata": {},
          "output_type": "execute_result"
        }
      ],
      "source": [
        "y[:5]"
      ]
    },
    {
      "cell_type": "markdown",
      "metadata": {
        "id": "ODMcFEhd0QEi"
      },
      "source": [
        "## `make_multilabel_classification`\n",
        "\n",
        "This function helps us generating a random multi-label classification problem."
      ]
    },
    {
      "cell_type": "code",
      "execution_count": null,
      "metadata": {
        "id": "MiVoOEiq5Zmq"
      },
      "outputs": [],
      "source": [
        "from sklearn.datasets import make_multilabel_classification\n",
        "?make_multilabel_classification"
      ]
    },
    {
      "cell_type": "markdown",
      "metadata": {
        "id": "EFIxZDWQ5m7b"
      },
      "source": [
        "Let's generate a multilabel classification problem with 100 samples, 10 features, 5 labels and on an average 2 labels per example."
      ]
    },
    {
      "cell_type": "code",
      "execution_count": null,
      "metadata": {
        "id": "XaPxYC8Y5vHE"
      },
      "outputs": [],
      "source": [
        "X, y = make_multilabel_classification(n_samples=100, n_features=20, n_classes=5, n_labels=2)"
      ]
    },
    {
      "cell_type": "markdown",
      "metadata": {
        "id": "lU2rKz7h6D71"
      },
      "source": [
        "First of all, let's examine shapes of feature matrix and label vector."
      ]
    },
    {
      "cell_type": "code",
      "execution_count": null,
      "metadata": {
        "colab": {
          "base_uri": "https://localhost:8080/"
        },
        "id": "_j71ETA56AnV",
        "outputId": "a738ab20-52d1-49b0-eae2-f5e9ce86908c"
      },
      "outputs": [
        {
          "data": {
            "text/plain": [
              "(100, 20)"
            ]
          },
          "execution_count": 222,
          "metadata": {},
          "output_type": "execute_result"
        }
      ],
      "source": [
        "X.shape"
      ]
    },
    {
      "cell_type": "code",
      "execution_count": null,
      "metadata": {
        "colab": {
          "base_uri": "https://localhost:8080/"
        },
        "id": "JkToULp76CHW",
        "outputId": "ac3a9631-e700-4010-c61d-bebbe11d8c04"
      },
      "outputs": [
        {
          "data": {
            "text/plain": [
              "(100, 5)"
            ]
          },
          "execution_count": 223,
          "metadata": {},
          "output_type": "execute_result"
        }
      ],
      "source": [
        "y.shape"
      ]
    },
    {
      "cell_type": "markdown",
      "metadata": {
        "id": "ExHH-52u6KEe"
      },
      "source": [
        "Let's examine a few rows of feature matrix and label matrix."
      ]
    },
    {
      "cell_type": "code",
      "execution_count": null,
      "metadata": {
        "colab": {
          "base_uri": "https://localhost:8080/"
        },
        "id": "EpQeVgkD6ODW",
        "outputId": "9f1950f8-6c05-46d9-9c10-0e0b76886307"
      },
      "outputs": [
        {
          "data": {
            "text/plain": [
              "array([[ 1.,  4.,  2.,  0.,  0.,  2.,  2.,  3.,  4.,  3.,  5.,  0.,  2.,\n",
              "         5.,  3.,  1.,  1.,  0.,  2.,  7.],\n",
              "       [ 4.,  1.,  2.,  0.,  3.,  1.,  2.,  2.,  2.,  2.,  1.,  1.,  1.,\n",
              "         3.,  1.,  2.,  4.,  2.,  2.,  2.],\n",
              "       [ 0.,  1.,  4.,  0.,  2.,  1.,  4.,  0.,  6.,  2.,  4.,  2.,  1.,\n",
              "         0.,  5.,  0.,  5.,  5.,  1.,  7.],\n",
              "       [ 5.,  3.,  3.,  0.,  0.,  2.,  6.,  2., 10.,  0.,  2.,  2.,  2.,\n",
              "         0.,  4.,  0.,  5.,  5.,  5.,  3.],\n",
              "       [ 4.,  3.,  5.,  0.,  4.,  2.,  6.,  1.,  2.,  2.,  3.,  1.,  4.,\n",
              "         1.,  5.,  4.,  3.,  4.,  2.,  1.]])"
            ]
          },
          "execution_count": 224,
          "metadata": {},
          "output_type": "execute_result"
        }
      ],
      "source": [
        "X[:5]"
      ]
    },
    {
      "cell_type": "code",
      "execution_count": null,
      "metadata": {
        "colab": {
          "base_uri": "https://localhost:8080/"
        },
        "id": "XBmeY2eI6R8v",
        "outputId": "f34880d8-f60f-41ba-ccb2-4860284a3710"
      },
      "outputs": [
        {
          "data": {
            "text/plain": [
              "array([[1, 0, 1, 1, 0],\n",
              "       [1, 0, 1, 1, 0],\n",
              "       [1, 0, 0, 1, 0],\n",
              "       [0, 0, 0, 1, 0],\n",
              "       [0, 1, 0, 1, 1]])"
            ]
          },
          "execution_count": 225,
          "metadata": {},
          "output_type": "execute_result"
        }
      ],
      "source": [
        "y[:5]"
      ]
    },
    {
      "cell_type": "markdown",
      "metadata": {
        "id": "nm-n3v_V0lHN"
      },
      "source": [
        "## `make_blobs`\n",
        "\n",
        "`make_blobs` enables us to generate random data for clustering."
      ]
    },
    {
      "cell_type": "code",
      "execution_count": null,
      "metadata": {
        "id": "pGAFZA9B7X-M"
      },
      "outputs": [],
      "source": [
        "from sklearn.datasets import make_blobs\n",
        "?make_blobs"
      ]
    },
    {
      "cell_type": "markdown",
      "metadata": {
        "id": "XsYfdnT97uK3"
      },
      "source": [
        "Let's generate a random dataset of 10 samples with 2 features each for clustering."
      ]
    },
    {
      "cell_type": "code",
      "execution_count": null,
      "metadata": {
        "colab": {
          "base_uri": "https://localhost:8080/"
        },
        "id": "AU6fP-rX7uju",
        "outputId": "67704e84-be1c-4b47-b0da-2f1f230e05d3"
      },
      "outputs": [
        {
          "name": "stdout",
          "output_type": "stream",
          "text": [
            "Feature matrix shape: (10, 2)\n",
            "Label shape: (10,)\n"
          ]
        }
      ],
      "source": [
        "X, y = make_blobs(n_samples=10, centers=3, n_features=2, random_state=42)\n",
        "print (\"Feature matrix shape:\", X.shape)\n",
        "print (\"Label shape:\", y.shape)"
      ]
    },
    {
      "cell_type": "markdown",
      "metadata": {
        "id": "tYY94Ppo8LQC"
      },
      "source": [
        "We can find the cluster membership of each point in `y`."
      ]
    },
    {
      "cell_type": "code",
      "execution_count": null,
      "metadata": {
        "colab": {
          "base_uri": "https://localhost:8080/"
        },
        "id": "Kb3d52Ke8Rya",
        "outputId": "8bd2f1ee-8f78-4e97-e192-00e75defaa60"
      },
      "outputs": [
        {
          "data": {
            "text/plain": [
              "array([2, 2, 1, 2, 0, 0, 0, 1, 1, 0])"
            ]
          },
          "execution_count": 228,
          "metadata": {},
          "output_type": "execute_result"
        }
      ],
      "source": [
        "y"
      ]
    }
  ],
  "metadata": {
    "colab": {
      "provenance": [],
      "include_colab_link": true
    },
    "kernelspec": {
      "display_name": "Python 3 (ipykernel)",
      "language": "python",
      "name": "python3"
    },
    "language_info": {
      "codemirror_mode": {
        "name": "ipython",
        "version": 3
      },
      "file_extension": ".py",
      "mimetype": "text/x-python",
      "name": "python",
      "nbconvert_exporter": "python",
      "pygments_lexer": "ipython3",
      "version": "3.9.16"
    }
  },
  "nbformat": 4,
  "nbformat_minor": 0
}